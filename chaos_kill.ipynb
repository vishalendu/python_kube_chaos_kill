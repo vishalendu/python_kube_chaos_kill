{
 "cells": [
  {
   "cell_type": "code",
   "execution_count": null,
   "id": "acf926fa",
   "metadata": {
    "ExecuteTime": {
     "end_time": "2022-03-18T20:38:10.790175Z",
     "start_time": "2022-03-18T20:38:09.290032Z"
    }
   },
   "outputs": [],
   "source": [
    "from kubernetes import client, config\n",
    "import pandas as pd\n",
    "import schedule\n",
    "import time\n",
    "from time import gmtime, strftime\n",
    "import numpy as np"
   ]
  },
  {
   "cell_type": "code",
   "execution_count": null,
   "id": "731258eb",
   "metadata": {
    "ExecuteTime": {
     "end_time": "2022-03-18T20:38:10.808109Z",
     "start_time": "2022-03-18T20:38:10.792629Z"
    }
   },
   "outputs": [],
   "source": [
    "## load chaos configuration\n",
    "inputs = pd.read_csv('inputs.csv',names=['dep','count'])\n",
    "inputs"
   ]
  },
  {
   "cell_type": "code",
   "execution_count": null,
   "id": "19b98f33",
   "metadata": {
    "ExecuteTime": {
     "end_time": "2022-03-18T20:38:10.879464Z",
     "start_time": "2022-03-18T20:38:10.812622Z"
    },
    "scrolled": false
   },
   "outputs": [],
   "source": [
    "## load Kube config\n",
    "config.load_kube_config()\n",
    "v1 = client.CoreV1Api()\n",
    "namespc = 'default'"
   ]
  },
  {
   "cell_type": "code",
   "execution_count": null,
   "id": "e4ac9f6a",
   "metadata": {
    "ExecuteTime": {
     "end_time": "2022-03-18T20:38:10.882915Z",
     "start_time": "2022-03-18T20:38:10.881432Z"
    },
    "hide_input": true,
    "scrolled": false
   },
   "outputs": [],
   "source": [
    "# mypods = pd.DataFrame([(pod['metadata']['labels']['app.kubernetes.io/name'],pod['metadata']['name'])\\\n",
    "#  for pod in pods['items'] \\\n",
    "#  if (('commerce' in pod['metadata']['name'])\\\n",
    "#     | ('orchestration' in pod['metadata']['name']))],columns=['dep','pod'])"
   ]
  },
  {
   "cell_type": "code",
   "execution_count": null,
   "id": "d6eb8f27",
   "metadata": {
    "ExecuteTime": {
     "end_time": "2022-03-18T20:38:10.886126Z",
     "start_time": "2022-03-18T20:38:10.884395Z"
    },
    "hide_input": true
   },
   "outputs": [],
   "source": [
    "# mypods = pd.DataFrame([(pod['metadata']['labels']['app.kubernetes.io/name'],pod['metadata']['name'])\\\n",
    "#  for pod in pods['items'] \\\n",
    "#  if (pod['metadata']['labels'].get('app.kubernetes.io/name') in inputs['dep'].to_list())],columns=['dep','pod'])"
   ]
  },
  {
   "cell_type": "code",
   "execution_count": null,
   "id": "4a0de9a3",
   "metadata": {
    "ExecuteTime": {
     "end_time": "2022-03-18T20:38:10.889209Z",
     "start_time": "2022-03-18T20:38:10.887607Z"
    },
    "hide_input": true
   },
   "outputs": [],
   "source": [
    "# def getPods(namespc,inputs):\n",
    "#         pods = v1.list_namespaced_pod(namespace=namespc).to_dict()\n",
    "#         return pd.DataFrame([(pod['metadata']['labels']['app.kubernetes.io/name'],pod['metadata']['name'])\\\n",
    "#          for pod in pods['items'] \\\n",
    "#          if (pod['metadata']['labels'].get('app.kubernetes.io/name') in inputs['dep'].to_list())],columns=['dep','pod'])"
   ]
  },
  {
   "cell_type": "code",
   "execution_count": null,
   "id": "5fdcd156",
   "metadata": {
    "ExecuteTime": {
     "end_time": "2022-03-18T20:38:10.896625Z",
     "start_time": "2022-03-18T20:38:10.890742Z"
    }
   },
   "outputs": [],
   "source": [
    "## All functions for getting pod names and victims\n",
    "global_affected_list=[]\n",
    "\n",
    "def getPods(namespc,inputs):\n",
    "    pods = v1.list_namespaced_pod(namespace=namespc)\n",
    "    if not pods.items:\n",
    "        return None\n",
    "    else:\n",
    "        return pd.DataFrame([(pod.metadata.labels.get('app.kubernetes.io/name'),pod.metadata.name,pod.status.phase)\\\n",
    "         for pod in pods.items \\\n",
    "         if (pod.metadata.labels.get('app.kubernetes.io/name') in inputs['dep'].to_list())],columns=['dep','pod','status'])\n",
    "\n",
    "# doesnt seem to reflect status right after deleting pod\n",
    "def getVictimStatus(victim):\n",
    "    df = getPods(namespc,inputs)\n",
    "    if df is None:\n",
    "        return None\n",
    "    else:\n",
    "        return df[df['pod']==victim]['status'].values[0]\n",
    "    \n",
    "def getVictim(podsdf):\n",
    "    global global_affected_list\n",
    "    selectedpods = []\n",
    "    for dep,count in inputs[['dep','count']].values.tolist():\n",
    "        allpods = podsdf[podsdf['dep']==dep]['pod'].to_list()\n",
    "        availablepods = [x for x in allpods if x not in global_affected_list]\n",
    "        selectedpods += list(np.random.choice(availablepods, count))\n",
    "    global_affected_list += selectedpods\n",
    "    return selectedpods\n",
    "    \n",
    "    \n",
    "#getPods('default',inputs)"
   ]
  },
  {
   "cell_type": "code",
   "execution_count": null,
   "id": "c104e5f0",
   "metadata": {
    "ExecuteTime": {
     "end_time": "2022-03-18T20:38:10.902508Z",
     "start_time": "2022-03-18T20:38:10.899436Z"
    },
    "scrolled": false
   },
   "outputs": [],
   "source": [
    "# job to be run for chaos test\n",
    "\n",
    "dryrun=False\n",
    "def job():\n",
    "    global dryrun\n",
    "    print(f\"{'-'*40}\")\n",
    "    print(f'Run at: {strftime(\"%Y-%m-%d %H:%M:%S\", gmtime())}')\n",
    "    print(f\"{'-'*40}\")\n",
    "    victims = getVictim(getPods('default',inputs))\n",
    "    if victims is not None:\n",
    "        print(f\"victims are {victims}\")\n",
    "        for victim in victims:\n",
    "            if not dryrun:\n",
    "                v1.delete_namespaced_pod(victim,namespc)\n",
    "            print(f\"{victim} pod is deleted\")\n"
   ]
  },
  {
   "cell_type": "code",
   "execution_count": null,
   "id": "ea13ee05",
   "metadata": {
    "ExecuteTime": {
     "end_time": "2022-03-18T20:40:41.632656Z",
     "start_time": "2022-03-18T20:38:10.904164Z"
    }
   },
   "outputs": [],
   "source": [
    "# schedule for the chaos job\n",
    "\n",
    "schedule.every(2).minutes.do(job)\n",
    "\n",
    "while True:\n",
    "    schedule.run_pending()\n",
    "    time.sleep(1)"
   ]
  }
 ],
 "metadata": {
  "hide_input": false,
  "kernelspec": {
   "display_name": "Python 3",
   "language": "python",
   "name": "python3"
  },
  "language_info": {
   "codemirror_mode": {
    "name": "ipython",
    "version": 3
   },
   "file_extension": ".py",
   "mimetype": "text/x-python",
   "name": "python",
   "nbconvert_exporter": "python",
   "pygments_lexer": "ipython3",
   "version": "3.8.2"
  }
 },
 "nbformat": 4,
 "nbformat_minor": 5
}
